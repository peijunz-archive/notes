{
 "cells": [
  {
   "cell_type": "markdown",
   "metadata": {},
   "source": [
    "For $H = \\sum X\\otimes X + Y$, we have MPO given by\n",
    "$$\n",
    "\\begin{pmatrix}\n",
    "1\\\\\n",
    "X\\\\\n",
    "H\\\\\n",
    "\\end{pmatrix}\\leftarrow\n",
    "\\begin{bmatrix}\n",
    "1& &\\\\\n",
    "X& &\\\\\n",
    "gY& JX& 1\\\\\n",
    "\\end{bmatrix}\n",
    "\\begin{pmatrix}\n",
    "1\\\\\n",
    "X\\\\\n",
    "H\\\\\n",
    "\\end{pmatrix}$$\n",
    "\n",
    "For $H^2$, its MPO is given by\n",
    "$$\n",
    "\\begin{pmatrix}\n",
    "1\\\\\n",
    "X\\\\\n",
    "X^2\\\\\n",
    "H\\\\\n",
    "HX\\\\\n",
    "H^2\n",
    "\\end{pmatrix}\\leftarrow\n",
    "\\begin{bmatrix}\n",
    "1& &&&&\\\\\n",
    "X& & & & &\\\\\n",
    "X^2& & & & & \\\\\n",
    "gY& JX& & 1& & \\\\\n",
    "gYX& JX^2& & X& & \\\\\n",
    "g^2Y^2& 2gJXY& J^2X^2& 2gY& 2JX& 1\n",
    "\\end{bmatrix}\n",
    "\\begin{pmatrix}\n",
    "1\\\\\n",
    "X\\\\\n",
    "X^2\\\\\n",
    "H\\\\\n",
    "HX\\\\\n",
    "H^2\n",
    "\\end{pmatrix}\n",
    "$$"
   ]
  },
  {
   "cell_type": "code",
   "execution_count": null,
   "metadata": {},
   "outputs": [],
   "source": []
  }
 ],
 "metadata": {
  "kernelspec": {
   "display_name": "Python 3",
   "language": "python",
   "name": "python3"
  },
  "language_info": {
   "codemirror_mode": {
    "name": "ipython",
    "version": 3
   },
   "file_extension": ".py",
   "mimetype": "text/x-python",
   "name": "python",
   "nbconvert_exporter": "python",
   "pygments_lexer": "ipython3",
   "version": "3.6.5"
  }
 },
 "nbformat": 4,
 "nbformat_minor": 2
}
